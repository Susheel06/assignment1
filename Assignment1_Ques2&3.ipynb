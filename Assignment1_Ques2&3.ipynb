{
  "nbformat": 4,
  "nbformat_minor": 0,
  "metadata": {
    "colab": {
      "name": "Assignment1_Ques2&3.ipynb",
      "provenance": [],
      "collapsed_sections": [],
      "authorship_tag": "ABX9TyNagB+LE5EsXMr2q0JISfkm",
      "include_colab_link": true
    },
    "kernelspec": {
      "name": "python3",
      "display_name": "Python 3"
    }
  },
  "cells": [
    {
      "cell_type": "markdown",
      "metadata": {
        "id": "view-in-github",
        "colab_type": "text"
      },
      "source": [
        "<a href=\"https://colab.research.google.com/github/Susheel06/assignment1/blob/main/Assignment1_Ques2%263.ipynb\" target=\"_parent\"><img src=\"https://colab.research.google.com/assets/colab-badge.svg\" alt=\"Open In Colab\"/></a>"
      ]
    },
    {
      "cell_type": "markdown",
      "metadata": {
        "id": "OFuL5aU2FqVH"
      },
      "source": [
        "# **QUESTION 2 AND 3**"
      ]
    },
    {
      "cell_type": "code",
      "metadata": {
        "id": "UNy_uVIW-bXw"
      },
      "source": [
        "import pandas as pd\n",
        "import numpy as np\n",
        "from sklearn.model_selection import train_test_split as tts\n",
        "import matplotlib.pyplot as plt\n",
        "import tensorflow as tf\n",
        "import seaborn as sns\n",
        "import requests\n",
        "\n",
        "from sklearn.metrics import accuracy_score\n",
        "from sklearn.metrics import roc_auc_score\n",
        "from sklearn.metrics import f1_score\n",
        "from sklearn.metrics import precision_score\n",
        "from sklearn.metrics import recall_score\n",
        "from sklearn.metrics import confusion_matrix\n",
        "from sklearn.preprocessing import StandardScaler"
      ],
      "execution_count": 268,
      "outputs": []
    },
    {
      "cell_type": "markdown",
      "metadata": {
        "id": "alY0HJAaAbdp"
      },
      "source": [
        "#### Importing dataset from github repo:"
      ]
    },
    {
      "cell_type": "code",
      "metadata": {
        "id": "MAyVU7IiAY4-",
        "outputId": "b2ce0b79-4cd0-4914-f8ba-d7a029730860",
        "colab": {
          "base_uri": "https://localhost:8080/",
          "height": 34
        }
      },
      "source": [
        "!git clone https://github.com/Susheel06/assignment1.git"
      ],
      "execution_count": 269,
      "outputs": [
        {
          "output_type": "stream",
          "text": [
            "fatal: destination path 'assignment1' already exists and is not an empty directory.\n"
          ],
          "name": "stdout"
        }
      ]
    },
    {
      "cell_type": "code",
      "metadata": {
        "id": "enY6pdfu-fpI",
        "outputId": "720c794d-823f-49f5-874b-fb2c157db2e0",
        "colab": {
          "base_uri": "https://localhost:8080/",
          "height": 287
        }
      },
      "source": [
        "df = pd.read_csv('/content/assignment1/winequality-red.csv')\n",
        "df1 = pd.read_csv('/content/assignment1/winequality-red.csv')\n",
        "df.describe()"
      ],
      "execution_count": 270,
      "outputs": [
        {
          "output_type": "execute_result",
          "data": {
            "text/html": [
              "<div>\n",
              "<style scoped>\n",
              "    .dataframe tbody tr th:only-of-type {\n",
              "        vertical-align: middle;\n",
              "    }\n",
              "\n",
              "    .dataframe tbody tr th {\n",
              "        vertical-align: top;\n",
              "    }\n",
              "\n",
              "    .dataframe thead th {\n",
              "        text-align: right;\n",
              "    }\n",
              "</style>\n",
              "<table border=\"1\" class=\"dataframe\">\n",
              "  <thead>\n",
              "    <tr style=\"text-align: right;\">\n",
              "      <th></th>\n",
              "      <th>fixed acidity</th>\n",
              "      <th>volatile acidity</th>\n",
              "      <th>citric acid</th>\n",
              "      <th>residual sugar</th>\n",
              "      <th>chlorides</th>\n",
              "      <th>free sulfur dioxide</th>\n",
              "      <th>total sulfur dioxide</th>\n",
              "      <th>density</th>\n",
              "      <th>pH</th>\n",
              "      <th>sulphates</th>\n",
              "      <th>alcohol</th>\n",
              "      <th>quality</th>\n",
              "    </tr>\n",
              "  </thead>\n",
              "  <tbody>\n",
              "    <tr>\n",
              "      <th>count</th>\n",
              "      <td>1599.000000</td>\n",
              "      <td>1599.000000</td>\n",
              "      <td>1599.000000</td>\n",
              "      <td>1599.000000</td>\n",
              "      <td>1599.000000</td>\n",
              "      <td>1599.000000</td>\n",
              "      <td>1599.000000</td>\n",
              "      <td>1599.000000</td>\n",
              "      <td>1599.000000</td>\n",
              "      <td>1599.000000</td>\n",
              "      <td>1599.000000</td>\n",
              "      <td>1599.000000</td>\n",
              "    </tr>\n",
              "    <tr>\n",
              "      <th>mean</th>\n",
              "      <td>8.319637</td>\n",
              "      <td>0.527821</td>\n",
              "      <td>0.270976</td>\n",
              "      <td>2.538806</td>\n",
              "      <td>0.087467</td>\n",
              "      <td>15.874922</td>\n",
              "      <td>46.467792</td>\n",
              "      <td>0.996747</td>\n",
              "      <td>3.311113</td>\n",
              "      <td>0.658149</td>\n",
              "      <td>10.422983</td>\n",
              "      <td>5.636023</td>\n",
              "    </tr>\n",
              "    <tr>\n",
              "      <th>std</th>\n",
              "      <td>1.741096</td>\n",
              "      <td>0.179060</td>\n",
              "      <td>0.194801</td>\n",
              "      <td>1.409928</td>\n",
              "      <td>0.047065</td>\n",
              "      <td>10.460157</td>\n",
              "      <td>32.895324</td>\n",
              "      <td>0.001887</td>\n",
              "      <td>0.154386</td>\n",
              "      <td>0.169507</td>\n",
              "      <td>1.065668</td>\n",
              "      <td>0.807569</td>\n",
              "    </tr>\n",
              "    <tr>\n",
              "      <th>min</th>\n",
              "      <td>4.600000</td>\n",
              "      <td>0.120000</td>\n",
              "      <td>0.000000</td>\n",
              "      <td>0.900000</td>\n",
              "      <td>0.012000</td>\n",
              "      <td>1.000000</td>\n",
              "      <td>6.000000</td>\n",
              "      <td>0.990070</td>\n",
              "      <td>2.740000</td>\n",
              "      <td>0.330000</td>\n",
              "      <td>8.400000</td>\n",
              "      <td>3.000000</td>\n",
              "    </tr>\n",
              "    <tr>\n",
              "      <th>25%</th>\n",
              "      <td>7.100000</td>\n",
              "      <td>0.390000</td>\n",
              "      <td>0.090000</td>\n",
              "      <td>1.900000</td>\n",
              "      <td>0.070000</td>\n",
              "      <td>7.000000</td>\n",
              "      <td>22.000000</td>\n",
              "      <td>0.995600</td>\n",
              "      <td>3.210000</td>\n",
              "      <td>0.550000</td>\n",
              "      <td>9.500000</td>\n",
              "      <td>5.000000</td>\n",
              "    </tr>\n",
              "    <tr>\n",
              "      <th>50%</th>\n",
              "      <td>7.900000</td>\n",
              "      <td>0.520000</td>\n",
              "      <td>0.260000</td>\n",
              "      <td>2.200000</td>\n",
              "      <td>0.079000</td>\n",
              "      <td>14.000000</td>\n",
              "      <td>38.000000</td>\n",
              "      <td>0.996750</td>\n",
              "      <td>3.310000</td>\n",
              "      <td>0.620000</td>\n",
              "      <td>10.200000</td>\n",
              "      <td>6.000000</td>\n",
              "    </tr>\n",
              "    <tr>\n",
              "      <th>75%</th>\n",
              "      <td>9.200000</td>\n",
              "      <td>0.640000</td>\n",
              "      <td>0.420000</td>\n",
              "      <td>2.600000</td>\n",
              "      <td>0.090000</td>\n",
              "      <td>21.000000</td>\n",
              "      <td>62.000000</td>\n",
              "      <td>0.997835</td>\n",
              "      <td>3.400000</td>\n",
              "      <td>0.730000</td>\n",
              "      <td>11.100000</td>\n",
              "      <td>6.000000</td>\n",
              "    </tr>\n",
              "    <tr>\n",
              "      <th>max</th>\n",
              "      <td>15.900000</td>\n",
              "      <td>1.580000</td>\n",
              "      <td>1.000000</td>\n",
              "      <td>15.500000</td>\n",
              "      <td>0.611000</td>\n",
              "      <td>72.000000</td>\n",
              "      <td>289.000000</td>\n",
              "      <td>1.003690</td>\n",
              "      <td>4.010000</td>\n",
              "      <td>2.000000</td>\n",
              "      <td>14.900000</td>\n",
              "      <td>8.000000</td>\n",
              "    </tr>\n",
              "  </tbody>\n",
              "</table>\n",
              "</div>"
            ],
            "text/plain": [
              "       fixed acidity  volatile acidity  ...      alcohol      quality\n",
              "count    1599.000000       1599.000000  ...  1599.000000  1599.000000\n",
              "mean        8.319637          0.527821  ...    10.422983     5.636023\n",
              "std         1.741096          0.179060  ...     1.065668     0.807569\n",
              "min         4.600000          0.120000  ...     8.400000     3.000000\n",
              "25%         7.100000          0.390000  ...     9.500000     5.000000\n",
              "50%         7.900000          0.520000  ...    10.200000     6.000000\n",
              "75%         9.200000          0.640000  ...    11.100000     6.000000\n",
              "max        15.900000          1.580000  ...    14.900000     8.000000\n",
              "\n",
              "[8 rows x 12 columns]"
            ]
          },
          "metadata": {
            "tags": []
          },
          "execution_count": 270
        }
      ]
    },
    {
      "cell_type": "markdown",
      "metadata": {
        "id": "jmR91LzPAmfl"
      },
      "source": [
        "#### Standardising the data to nullify the effects of outliers:"
      ]
    },
    {
      "cell_type": "code",
      "metadata": {
        "id": "zf8JY6Zr-nta",
        "outputId": "7353ebbc-f8fd-48a0-dcc2-3a3dbc0e1b23",
        "colab": {
          "base_uri": "https://localhost:8080/",
          "height": 197
        }
      },
      "source": [
        "y_train = df[['quality']]\n",
        "y_train.head()\n",
        "df.drop(columns = ['quality'], axis = 1, inplace = True)\n",
        "\n",
        "x = pd.DataFrame(data = df.values, columns= df.columns)\n",
        "\n",
        "scaler = StandardScaler()\n",
        "df = pd.DataFrame(data = scaler.fit_transform(df), columns=df.columns)\n",
        "\n",
        "df.insert(loc=len(df.columns),column='quality', value= y_train)\n",
        "df.head()"
      ],
      "execution_count": 271,
      "outputs": [
        {
          "output_type": "execute_result",
          "data": {
            "text/html": [
              "<div>\n",
              "<style scoped>\n",
              "    .dataframe tbody tr th:only-of-type {\n",
              "        vertical-align: middle;\n",
              "    }\n",
              "\n",
              "    .dataframe tbody tr th {\n",
              "        vertical-align: top;\n",
              "    }\n",
              "\n",
              "    .dataframe thead th {\n",
              "        text-align: right;\n",
              "    }\n",
              "</style>\n",
              "<table border=\"1\" class=\"dataframe\">\n",
              "  <thead>\n",
              "    <tr style=\"text-align: right;\">\n",
              "      <th></th>\n",
              "      <th>fixed acidity</th>\n",
              "      <th>volatile acidity</th>\n",
              "      <th>citric acid</th>\n",
              "      <th>residual sugar</th>\n",
              "      <th>chlorides</th>\n",
              "      <th>free sulfur dioxide</th>\n",
              "      <th>total sulfur dioxide</th>\n",
              "      <th>density</th>\n",
              "      <th>pH</th>\n",
              "      <th>sulphates</th>\n",
              "      <th>alcohol</th>\n",
              "      <th>quality</th>\n",
              "    </tr>\n",
              "  </thead>\n",
              "  <tbody>\n",
              "    <tr>\n",
              "      <th>0</th>\n",
              "      <td>-0.528360</td>\n",
              "      <td>0.961877</td>\n",
              "      <td>-1.391472</td>\n",
              "      <td>-0.453218</td>\n",
              "      <td>-0.243707</td>\n",
              "      <td>-0.466193</td>\n",
              "      <td>-0.379133</td>\n",
              "      <td>0.558274</td>\n",
              "      <td>1.288643</td>\n",
              "      <td>-0.579207</td>\n",
              "      <td>-0.960246</td>\n",
              "      <td>5</td>\n",
              "    </tr>\n",
              "    <tr>\n",
              "      <th>1</th>\n",
              "      <td>-0.298547</td>\n",
              "      <td>1.967442</td>\n",
              "      <td>-1.391472</td>\n",
              "      <td>0.043416</td>\n",
              "      <td>0.223875</td>\n",
              "      <td>0.872638</td>\n",
              "      <td>0.624363</td>\n",
              "      <td>0.028261</td>\n",
              "      <td>-0.719933</td>\n",
              "      <td>0.128950</td>\n",
              "      <td>-0.584777</td>\n",
              "      <td>5</td>\n",
              "    </tr>\n",
              "    <tr>\n",
              "      <th>2</th>\n",
              "      <td>-0.298547</td>\n",
              "      <td>1.297065</td>\n",
              "      <td>-1.186070</td>\n",
              "      <td>-0.169427</td>\n",
              "      <td>0.096353</td>\n",
              "      <td>-0.083669</td>\n",
              "      <td>0.229047</td>\n",
              "      <td>0.134264</td>\n",
              "      <td>-0.331177</td>\n",
              "      <td>-0.048089</td>\n",
              "      <td>-0.584777</td>\n",
              "      <td>5</td>\n",
              "    </tr>\n",
              "    <tr>\n",
              "      <th>3</th>\n",
              "      <td>1.654856</td>\n",
              "      <td>-1.384443</td>\n",
              "      <td>1.484154</td>\n",
              "      <td>-0.453218</td>\n",
              "      <td>-0.264960</td>\n",
              "      <td>0.107592</td>\n",
              "      <td>0.411500</td>\n",
              "      <td>0.664277</td>\n",
              "      <td>-0.979104</td>\n",
              "      <td>-0.461180</td>\n",
              "      <td>-0.584777</td>\n",
              "      <td>6</td>\n",
              "    </tr>\n",
              "    <tr>\n",
              "      <th>4</th>\n",
              "      <td>-0.528360</td>\n",
              "      <td>0.961877</td>\n",
              "      <td>-1.391472</td>\n",
              "      <td>-0.453218</td>\n",
              "      <td>-0.243707</td>\n",
              "      <td>-0.466193</td>\n",
              "      <td>-0.379133</td>\n",
              "      <td>0.558274</td>\n",
              "      <td>1.288643</td>\n",
              "      <td>-0.579207</td>\n",
              "      <td>-0.960246</td>\n",
              "      <td>5</td>\n",
              "    </tr>\n",
              "  </tbody>\n",
              "</table>\n",
              "</div>"
            ],
            "text/plain": [
              "   fixed acidity  volatile acidity  citric acid  ...  sulphates   alcohol  quality\n",
              "0      -0.528360          0.961877    -1.391472  ...  -0.579207 -0.960246        5\n",
              "1      -0.298547          1.967442    -1.391472  ...   0.128950 -0.584777        5\n",
              "2      -0.298547          1.297065    -1.186070  ...  -0.048089 -0.584777        5\n",
              "3       1.654856         -1.384443     1.484154  ...  -0.461180 -0.584777        6\n",
              "4      -0.528360          0.961877    -1.391472  ...  -0.579207 -0.960246        5\n",
              "\n",
              "[5 rows x 12 columns]"
            ]
          },
          "metadata": {
            "tags": []
          },
          "execution_count": 271
        }
      ]
    },
    {
      "cell_type": "markdown",
      "metadata": {
        "id": "NmdFeVn6BBII"
      },
      "source": [
        "#### Splitting the dataset in the ratio of 7:3 for training and testing:"
      ]
    },
    {
      "cell_type": "code",
      "metadata": {
        "id": "TQ-bHJjQ-rVJ",
        "outputId": "a0d465e6-fad8-4768-ad33-775f8ae460f9",
        "colab": {
          "base_uri": "https://localhost:8080/",
          "height": 197
        }
      },
      "source": [
        "train, test = tts(df, test_size = 0.3, shuffle= True)\n",
        "\n",
        "train.head()"
      ],
      "execution_count": 272,
      "outputs": [
        {
          "output_type": "execute_result",
          "data": {
            "text/html": [
              "<div>\n",
              "<style scoped>\n",
              "    .dataframe tbody tr th:only-of-type {\n",
              "        vertical-align: middle;\n",
              "    }\n",
              "\n",
              "    .dataframe tbody tr th {\n",
              "        vertical-align: top;\n",
              "    }\n",
              "\n",
              "    .dataframe thead th {\n",
              "        text-align: right;\n",
              "    }\n",
              "</style>\n",
              "<table border=\"1\" class=\"dataframe\">\n",
              "  <thead>\n",
              "    <tr style=\"text-align: right;\">\n",
              "      <th></th>\n",
              "      <th>fixed acidity</th>\n",
              "      <th>volatile acidity</th>\n",
              "      <th>citric acid</th>\n",
              "      <th>residual sugar</th>\n",
              "      <th>chlorides</th>\n",
              "      <th>free sulfur dioxide</th>\n",
              "      <th>total sulfur dioxide</th>\n",
              "      <th>density</th>\n",
              "      <th>pH</th>\n",
              "      <th>sulphates</th>\n",
              "      <th>alcohol</th>\n",
              "      <th>quality</th>\n",
              "    </tr>\n",
              "  </thead>\n",
              "  <tbody>\n",
              "    <tr>\n",
              "      <th>1505</th>\n",
              "      <td>-0.930531</td>\n",
              "      <td>1.297065</td>\n",
              "      <td>-1.288771</td>\n",
              "      <td>-0.524166</td>\n",
              "      <td>-0.201199</td>\n",
              "      <td>-0.944346</td>\n",
              "      <td>-1.048130</td>\n",
              "      <td>-0.395750</td>\n",
              "      <td>1.547814</td>\n",
              "      <td>-0.166115</td>\n",
              "      <td>-0.443976</td>\n",
              "      <td>3</td>\n",
              "    </tr>\n",
              "    <tr>\n",
              "      <th>925</th>\n",
              "      <td>0.161077</td>\n",
              "      <td>-1.719632</td>\n",
              "      <td>0.457144</td>\n",
              "      <td>-0.453218</td>\n",
              "      <td>-0.498751</td>\n",
              "      <td>3.550300</td>\n",
              "      <td>0.928453</td>\n",
              "      <td>-0.374550</td>\n",
              "      <td>1.029472</td>\n",
              "      <td>1.250199</td>\n",
              "      <td>0.541630</td>\n",
              "      <td>7</td>\n",
              "    </tr>\n",
              "    <tr>\n",
              "      <th>659</th>\n",
              "      <td>-0.700719</td>\n",
              "      <td>1.743983</td>\n",
              "      <td>-1.288771</td>\n",
              "      <td>1.320476</td>\n",
              "      <td>0.181368</td>\n",
              "      <td>-1.039977</td>\n",
              "      <td>-1.017721</td>\n",
              "      <td>0.134264</td>\n",
              "      <td>0.640715</td>\n",
              "      <td>-0.520193</td>\n",
              "      <td>0.541630</td>\n",
              "      <td>4</td>\n",
              "    </tr>\n",
              "    <tr>\n",
              "      <th>221</th>\n",
              "      <td>-0.528360</td>\n",
              "      <td>0.012176</td>\n",
              "      <td>-0.056360</td>\n",
              "      <td>-0.382271</td>\n",
              "      <td>0.287636</td>\n",
              "      <td>0.011961</td>\n",
              "      <td>0.776408</td>\n",
              "      <td>-0.554754</td>\n",
              "      <td>-1.043897</td>\n",
              "      <td>-0.520193</td>\n",
              "      <td>-0.960246</td>\n",
              "      <td>5</td>\n",
              "    </tr>\n",
              "    <tr>\n",
              "      <th>767</th>\n",
              "      <td>-0.470907</td>\n",
              "      <td>0.403229</td>\n",
              "      <td>0.251743</td>\n",
              "      <td>0.114364</td>\n",
              "      <td>0.330144</td>\n",
              "      <td>-0.274931</td>\n",
              "      <td>1.567041</td>\n",
              "      <td>1.395696</td>\n",
              "      <td>0.899886</td>\n",
              "      <td>-0.225128</td>\n",
              "      <td>-0.866379</td>\n",
              "      <td>5</td>\n",
              "    </tr>\n",
              "  </tbody>\n",
              "</table>\n",
              "</div>"
            ],
            "text/plain": [
              "      fixed acidity  volatile acidity  ...   alcohol  quality\n",
              "1505      -0.930531          1.297065  ... -0.443976        3\n",
              "925        0.161077         -1.719632  ...  0.541630        7\n",
              "659       -0.700719          1.743983  ...  0.541630        4\n",
              "221       -0.528360          0.012176  ... -0.960246        5\n",
              "767       -0.470907          0.403229  ... -0.866379        5\n",
              "\n",
              "[5 rows x 12 columns]"
            ]
          },
          "metadata": {
            "tags": []
          },
          "execution_count": 272
        }
      ]
    },
    {
      "cell_type": "code",
      "metadata": {
        "id": "HCg7mSfj_P1v",
        "outputId": "254dcc2b-1c24-4d39-e773-03bd6c818a72",
        "colab": {
          "base_uri": "https://localhost:8080/",
          "height": 52
        }
      },
      "source": [
        "y_train = train[['quality']]\n",
        "x_train = train.drop(columns = ['quality'], axis = 1)\n",
        "\n",
        "y_test = test[['quality']]\n",
        "x_test = test.drop(columns = ['quality'], axis = 1)\n",
        "\n",
        "y_train.head()\n",
        "\n",
        "print(x_train.shape)\n",
        "print(y_train.shape)"
      ],
      "execution_count": 273,
      "outputs": [
        {
          "output_type": "stream",
          "text": [
            "(1119, 11)\n",
            "(1119, 1)\n"
          ],
          "name": "stdout"
        }
      ]
    },
    {
      "cell_type": "markdown",
      "metadata": {
        "id": "F0pPIDt6BUmb"
      },
      "source": [
        "#### Converting the ordinal output data to categorical data with a threshold of 7:"
      ]
    },
    {
      "cell_type": "code",
      "metadata": {
        "id": "MMsBk4Yx_QtE",
        "outputId": "b2a1664f-483d-45db-8649-789f343f14b0",
        "colab": {
          "base_uri": "https://localhost:8080/",
          "height": 727
        }
      },
      "source": [
        "y_train1 = pd.DataFrame(data = y_train.values, columns=y_train.columns, dtype=int, copy=True)\n",
        "\n",
        "y_train.loc[y_train['quality'] < 7] = 0\n",
        "y_train.loc[y_train['quality'] >= 7] = 1\n",
        "\n",
        "\n",
        "y_test.loc[y_test['quality'] < 7] = 0\n",
        "y_test.loc[y_test['quality'] >= 7] = 1"
      ],
      "execution_count": 274,
      "outputs": [
        {
          "output_type": "stream",
          "text": [
            "/usr/local/lib/python3.6/dist-packages/pandas/core/indexing.py:670: SettingWithCopyWarning: \n",
            "A value is trying to be set on a copy of a slice from a DataFrame\n",
            "\n",
            "See the caveats in the documentation: https://pandas.pydata.org/pandas-docs/stable/user_guide/indexing.html#returning-a-view-versus-a-copy\n",
            "  iloc._setitem_with_indexer(indexer, value)\n",
            "/usr/local/lib/python3.6/dist-packages/ipykernel_launcher.py:3: SettingWithCopyWarning: \n",
            "A value is trying to be set on a copy of a slice from a DataFrame\n",
            "\n",
            "See the caveats in the documentation: https://pandas.pydata.org/pandas-docs/stable/user_guide/indexing.html#returning-a-view-versus-a-copy\n",
            "  This is separate from the ipykernel package so we can avoid doing imports until\n",
            "/usr/local/lib/python3.6/dist-packages/pandas/core/indexing.py:670: SettingWithCopyWarning: \n",
            "A value is trying to be set on a copy of a slice from a DataFrame\n",
            "\n",
            "See the caveats in the documentation: https://pandas.pydata.org/pandas-docs/stable/user_guide/indexing.html#returning-a-view-versus-a-copy\n",
            "  iloc._setitem_with_indexer(indexer, value)\n",
            "/usr/local/lib/python3.6/dist-packages/ipykernel_launcher.py:4: SettingWithCopyWarning: \n",
            "A value is trying to be set on a copy of a slice from a DataFrame\n",
            "\n",
            "See the caveats in the documentation: https://pandas.pydata.org/pandas-docs/stable/user_guide/indexing.html#returning-a-view-versus-a-copy\n",
            "  after removing the cwd from sys.path.\n",
            "/usr/local/lib/python3.6/dist-packages/pandas/core/indexing.py:670: SettingWithCopyWarning: \n",
            "A value is trying to be set on a copy of a slice from a DataFrame\n",
            "\n",
            "See the caveats in the documentation: https://pandas.pydata.org/pandas-docs/stable/user_guide/indexing.html#returning-a-view-versus-a-copy\n",
            "  iloc._setitem_with_indexer(indexer, value)\n",
            "/usr/local/lib/python3.6/dist-packages/ipykernel_launcher.py:7: SettingWithCopyWarning: \n",
            "A value is trying to be set on a copy of a slice from a DataFrame\n",
            "\n",
            "See the caveats in the documentation: https://pandas.pydata.org/pandas-docs/stable/user_guide/indexing.html#returning-a-view-versus-a-copy\n",
            "  import sys\n",
            "/usr/local/lib/python3.6/dist-packages/pandas/core/indexing.py:670: SettingWithCopyWarning: \n",
            "A value is trying to be set on a copy of a slice from a DataFrame\n",
            "\n",
            "See the caveats in the documentation: https://pandas.pydata.org/pandas-docs/stable/user_guide/indexing.html#returning-a-view-versus-a-copy\n",
            "  iloc._setitem_with_indexer(indexer, value)\n",
            "/usr/local/lib/python3.6/dist-packages/ipykernel_launcher.py:8: SettingWithCopyWarning: \n",
            "A value is trying to be set on a copy of a slice from a DataFrame\n",
            "\n",
            "See the caveats in the documentation: https://pandas.pydata.org/pandas-docs/stable/user_guide/indexing.html#returning-a-view-versus-a-copy\n",
            "  \n"
          ],
          "name": "stderr"
        }
      ]
    },
    {
      "cell_type": "markdown",
      "metadata": {
        "id": "Htbo0u-rBg05"
      },
      "source": [
        "#### Model 1: Logistic Regression:"
      ]
    },
    {
      "cell_type": "code",
      "metadata": {
        "id": "AoqEdDn-_Ugg",
        "outputId": "1d25216c-f9fd-407a-c328-1cb22ed5306a",
        "colab": {
          "base_uri": "https://localhost:8080/",
          "height": 52
        }
      },
      "source": [
        "from sklearn.linear_model import LogisticRegression\n",
        "\n",
        "model_logistic = LogisticRegression().fit(x_train, y_train)\n",
        "\n",
        "y_result = pd.DataFrame(data = model_logistic.predict(x_test), dtype=int)"
      ],
      "execution_count": 275,
      "outputs": [
        {
          "output_type": "stream",
          "text": [
            "/usr/local/lib/python3.6/dist-packages/sklearn/utils/validation.py:760: DataConversionWarning: A column-vector y was passed when a 1d array was expected. Please change the shape of y to (n_samples, ), for example using ravel().\n",
            "  y = column_or_1d(y, warn=True)\n"
          ],
          "name": "stderr"
        }
      ]
    },
    {
      "cell_type": "markdown",
      "metadata": {
        "id": "y3zKPxQKBn8D"
      },
      "source": [
        "#### Model 1 results:"
      ]
    },
    {
      "cell_type": "code",
      "metadata": {
        "id": "B6Ros4Lj_c5K",
        "outputId": "f1dea10f-15de-4683-ed37-a569f904a3d9",
        "colab": {
          "base_uri": "https://localhost:8080/",
          "height": 123
        }
      },
      "source": [
        "print('Accuracy: %.2f' % roc_auc_score(y_test, y_result))\n",
        "print('F1_Score: %.2f' % f1_score(y_test, y_result))\n",
        "print('Precision: %.2f' % precision_score(y_test, y_result))\n",
        "print('Recall: %.2f' % recall_score(y_test, y_result))\n",
        "\n",
        "confus_mat = confusion_matrix(y_test, y_result)\n",
        "\n",
        "\n",
        "l1 = (confus_mat[0][0])/(confus_mat[0][0] + confus_mat[0][1])\n",
        "print('Sensitivity: %0.2f' % l1)\n",
        "\n",
        "l2 = (confus_mat[1][1])/(confus_mat[1][0] + confus_mat[1][1])\n",
        "print('Specificity: %0.2f' % l2)"
      ],
      "execution_count": 276,
      "outputs": [
        {
          "output_type": "stream",
          "text": [
            "Accuracy: 0.70\n",
            "F1_Score: 0.48\n",
            "Precision: 0.49\n",
            "Recall: 0.48\n",
            "Sensitivity: 0.93\n",
            "Specificity: 0.48\n"
          ],
          "name": "stdout"
        }
      ]
    },
    {
      "cell_type": "markdown",
      "metadata": {
        "id": "3JiBWw2hBvLj"
      },
      "source": [
        "#### Model 2: Linear Regression as a Classifier"
      ]
    },
    {
      "cell_type": "code",
      "metadata": {
        "id": "iWOGTeOhQdfU",
        "outputId": "e418d127-d744-4ad2-8cb8-ee4a5e4b54f3",
        "colab": {
          "base_uri": "https://localhost:8080/",
          "height": 197
        }
      },
      "source": [
        "y_train1.head()"
      ],
      "execution_count": 277,
      "outputs": [
        {
          "output_type": "execute_result",
          "data": {
            "text/html": [
              "<div>\n",
              "<style scoped>\n",
              "    .dataframe tbody tr th:only-of-type {\n",
              "        vertical-align: middle;\n",
              "    }\n",
              "\n",
              "    .dataframe tbody tr th {\n",
              "        vertical-align: top;\n",
              "    }\n",
              "\n",
              "    .dataframe thead th {\n",
              "        text-align: right;\n",
              "    }\n",
              "</style>\n",
              "<table border=\"1\" class=\"dataframe\">\n",
              "  <thead>\n",
              "    <tr style=\"text-align: right;\">\n",
              "      <th></th>\n",
              "      <th>quality</th>\n",
              "    </tr>\n",
              "  </thead>\n",
              "  <tbody>\n",
              "    <tr>\n",
              "      <th>0</th>\n",
              "      <td>3</td>\n",
              "    </tr>\n",
              "    <tr>\n",
              "      <th>1</th>\n",
              "      <td>7</td>\n",
              "    </tr>\n",
              "    <tr>\n",
              "      <th>2</th>\n",
              "      <td>4</td>\n",
              "    </tr>\n",
              "    <tr>\n",
              "      <th>3</th>\n",
              "      <td>5</td>\n",
              "    </tr>\n",
              "    <tr>\n",
              "      <th>4</th>\n",
              "      <td>5</td>\n",
              "    </tr>\n",
              "  </tbody>\n",
              "</table>\n",
              "</div>"
            ],
            "text/plain": [
              "   quality\n",
              "0        3\n",
              "1        7\n",
              "2        4\n",
              "3        5\n",
              "4        5"
            ]
          },
          "metadata": {
            "tags": []
          },
          "execution_count": 277
        }
      ]
    },
    {
      "cell_type": "code",
      "metadata": {
        "id": "I6q9lQ_F_fa2"
      },
      "source": [
        "from sklearn.linear_model import LinearRegression\n",
        "\n",
        "model_lr_classification = LinearRegression().fit(x_train, y_train1)\n",
        "\n",
        "y_result = pd.DataFrame(data = model_lr_classification.predict(x_test), columns= y_train1.columns)\n",
        "\n",
        "y_result.loc[y_result['quality'] < 7] = 0\n",
        "y_result.loc[y_result['quality'] >= 7] = 1"
      ],
      "execution_count": 278,
      "outputs": []
    },
    {
      "cell_type": "markdown",
      "metadata": {
        "id": "M0E-wM_OB1lF"
      },
      "source": [
        "#### Model 2 results:"
      ]
    },
    {
      "cell_type": "code",
      "metadata": {
        "id": "ltenktZL_jxM",
        "outputId": "356b09d4-0fd2-4c5a-a412-3b6090798efd",
        "colab": {
          "base_uri": "https://localhost:8080/",
          "height": 158
        }
      },
      "source": [
        "print('Accuracy: %.2f' % roc_auc_score(y_test, y_result))\n",
        "print('F1_Score: %.2f' % f1_score(y_test, y_result))\n",
        "print('Precision: %.2f' % precision_score(y_test, y_result))\n",
        "print('Recall: %.2f' % recall_score(y_test, y_result))\n",
        "\n",
        "confus_mat = confusion_matrix(y_test, y_result)\n",
        "\n",
        "\n",
        "l1 = (confus_mat[0][0])/(confus_mat[0][0] + confus_mat[0][1])\n",
        "print('Sensitivity: %0.2f' % l1)\n",
        "\n",
        "l2 = (confus_mat[1][1])/(confus_mat[1][0] + confus_mat[1][1])\n",
        "print('Specificity: %0.2f' % l2)"
      ],
      "execution_count": 279,
      "outputs": [
        {
          "output_type": "stream",
          "text": [
            "Accuracy: 0.50\n",
            "F1_Score: 0.00\n",
            "Precision: 0.00\n",
            "Recall: 0.00\n",
            "Sensitivity: 1.00\n",
            "Specificity: 0.00\n"
          ],
          "name": "stdout"
        },
        {
          "output_type": "stream",
          "text": [
            "/usr/local/lib/python3.6/dist-packages/sklearn/metrics/_classification.py:1272: UndefinedMetricWarning: Precision is ill-defined and being set to 0.0 due to no predicted samples. Use `zero_division` parameter to control this behavior.\n",
            "  _warn_prf(average, modifier, msg_start, len(result))\n"
          ],
          "name": "stderr"
        }
      ]
    },
    {
      "cell_type": "markdown",
      "metadata": {
        "id": "BiET6EZrB5hv"
      },
      "source": [
        "#### Model 3: SVM with Polynomial kernel and degree 3"
      ]
    },
    {
      "cell_type": "code",
      "metadata": {
        "id": "wXbETOgi_mdG",
        "outputId": "347e1006-301e-4999-868a-739557b0e153",
        "colab": {
          "base_uri": "https://localhost:8080/",
          "height": 52
        }
      },
      "source": [
        "from sklearn import svm\n",
        "\n",
        "clf = svm.SVC(kernel='poly')\n",
        "clf.fit(x_train, y_train)\n",
        "\n",
        "y_result = pd.DataFrame(data = clf.predict(x_test), dtype=int)"
      ],
      "execution_count": 280,
      "outputs": [
        {
          "output_type": "stream",
          "text": [
            "/usr/local/lib/python3.6/dist-packages/sklearn/utils/validation.py:760: DataConversionWarning: A column-vector y was passed when a 1d array was expected. Please change the shape of y to (n_samples, ), for example using ravel().\n",
            "  y = column_or_1d(y, warn=True)\n"
          ],
          "name": "stderr"
        }
      ]
    },
    {
      "cell_type": "markdown",
      "metadata": {
        "id": "8s05Oz21CBSF"
      },
      "source": [
        "#### Model 3 results:"
      ]
    },
    {
      "cell_type": "code",
      "metadata": {
        "id": "u5UrzRhI_qwN",
        "outputId": "9526b650-6b89-490b-cd5a-e6c573e3701e",
        "colab": {
          "base_uri": "https://localhost:8080/",
          "height": 123
        }
      },
      "source": [
        "print('Accuracy: %.2f' % roc_auc_score(y_test, y_result))\n",
        "print('F1_Score: %.2f' % f1_score(y_test, y_result))\n",
        "print('Precision: %.2f' % precision_score(y_test, y_result))\n",
        "print('Recall: %.2f' % recall_score(y_test, y_result))\n",
        "\n",
        "confus_mat = confusion_matrix(y_test, y_result)\n",
        "\n",
        "\n",
        "l1 = (confus_mat[0][0])/(confus_mat[0][0] + confus_mat[0][1])\n",
        "print('Sensitivity: %0.2f' % l1)\n",
        "\n",
        "l2 = (confus_mat[1][1])/(confus_mat[1][0] + confus_mat[1][1])\n",
        "print('Specificity: %0.2f' % l2)"
      ],
      "execution_count": 281,
      "outputs": [
        {
          "output_type": "stream",
          "text": [
            "Accuracy: 0.70\n",
            "F1_Score: 0.51\n",
            "Precision: 0.63\n",
            "Recall: 0.43\n",
            "Sensitivity: 0.96\n",
            "Specificity: 0.43\n"
          ],
          "name": "stdout"
        }
      ]
    },
    {
      "cell_type": "markdown",
      "metadata": {
        "id": "AQpISfQXCGFY"
      },
      "source": [
        "#### Model 4: Naive Bayes Classifier"
      ]
    },
    {
      "cell_type": "markdown",
      "metadata": {
        "id": "DSiXwcT6FXm5"
      },
      "source": [
        "#### Performing Normalization:"
      ]
    },
    {
      "cell_type": "code",
      "metadata": {
        "id": "rxVaY0i-_t8q",
        "outputId": "001479f6-0ea8-403d-856d-f14a42c3f21f",
        "colab": {
          "base_uri": "https://localhost:8080/",
          "height": 197
        }
      },
      "source": [
        "from sklearn.preprocessing import MinMaxScaler\n",
        "\n",
        "scaler = MinMaxScaler()\n",
        "\n",
        "y_train = df1[['quality']]\n",
        "y_train.head()\n",
        "\n",
        "df1.drop(columns = ['quality'], axis = 1, inplace = True)\n",
        "\n",
        "df1 = pd.DataFrame(data = scaler.fit_transform(df1), columns=df1.columns)\n",
        "\n",
        "df1.insert(loc=len(df1.columns),column='quality', value= y_train)\n",
        "df1.head()\n",
        "\n",
        "train, test = tts(df1, test_size = 0.3, shuffle=True)\n",
        "train.head()"
      ],
      "execution_count": 282,
      "outputs": [
        {
          "output_type": "execute_result",
          "data": {
            "text/html": [
              "<div>\n",
              "<style scoped>\n",
              "    .dataframe tbody tr th:only-of-type {\n",
              "        vertical-align: middle;\n",
              "    }\n",
              "\n",
              "    .dataframe tbody tr th {\n",
              "        vertical-align: top;\n",
              "    }\n",
              "\n",
              "    .dataframe thead th {\n",
              "        text-align: right;\n",
              "    }\n",
              "</style>\n",
              "<table border=\"1\" class=\"dataframe\">\n",
              "  <thead>\n",
              "    <tr style=\"text-align: right;\">\n",
              "      <th></th>\n",
              "      <th>fixed acidity</th>\n",
              "      <th>volatile acidity</th>\n",
              "      <th>citric acid</th>\n",
              "      <th>residual sugar</th>\n",
              "      <th>chlorides</th>\n",
              "      <th>free sulfur dioxide</th>\n",
              "      <th>total sulfur dioxide</th>\n",
              "      <th>density</th>\n",
              "      <th>pH</th>\n",
              "      <th>sulphates</th>\n",
              "      <th>alcohol</th>\n",
              "      <th>quality</th>\n",
              "    </tr>\n",
              "  </thead>\n",
              "  <tbody>\n",
              "    <tr>\n",
              "      <th>67</th>\n",
              "      <td>0.176991</td>\n",
              "      <td>0.400685</td>\n",
              "      <td>0.07</td>\n",
              "      <td>0.047945</td>\n",
              "      <td>0.106845</td>\n",
              "      <td>0.070423</td>\n",
              "      <td>0.031802</td>\n",
              "      <td>0.450073</td>\n",
              "      <td>0.551181</td>\n",
              "      <td>0.149701</td>\n",
              "      <td>0.353846</td>\n",
              "      <td>5</td>\n",
              "    </tr>\n",
              "    <tr>\n",
              "      <th>594</th>\n",
              "      <td>0.292035</td>\n",
              "      <td>0.410959</td>\n",
              "      <td>0.17</td>\n",
              "      <td>0.116438</td>\n",
              "      <td>0.140234</td>\n",
              "      <td>0.267606</td>\n",
              "      <td>0.113074</td>\n",
              "      <td>0.567548</td>\n",
              "      <td>0.519685</td>\n",
              "      <td>0.119760</td>\n",
              "      <td>0.169231</td>\n",
              "      <td>5</td>\n",
              "    </tr>\n",
              "    <tr>\n",
              "      <th>541</th>\n",
              "      <td>0.433628</td>\n",
              "      <td>0.232877</td>\n",
              "      <td>0.49</td>\n",
              "      <td>0.369863</td>\n",
              "      <td>0.086811</td>\n",
              "      <td>0.056338</td>\n",
              "      <td>0.038869</td>\n",
              "      <td>0.640969</td>\n",
              "      <td>0.370079</td>\n",
              "      <td>0.239521</td>\n",
              "      <td>0.400000</td>\n",
              "      <td>6</td>\n",
              "    </tr>\n",
              "    <tr>\n",
              "      <th>1595</th>\n",
              "      <td>0.115044</td>\n",
              "      <td>0.294521</td>\n",
              "      <td>0.10</td>\n",
              "      <td>0.089041</td>\n",
              "      <td>0.083472</td>\n",
              "      <td>0.535211</td>\n",
              "      <td>0.159011</td>\n",
              "      <td>0.370778</td>\n",
              "      <td>0.614173</td>\n",
              "      <td>0.257485</td>\n",
              "      <td>0.430769</td>\n",
              "      <td>6</td>\n",
              "    </tr>\n",
              "    <tr>\n",
              "      <th>980</th>\n",
              "      <td>0.398230</td>\n",
              "      <td>0.260274</td>\n",
              "      <td>0.30</td>\n",
              "      <td>0.068493</td>\n",
              "      <td>0.088481</td>\n",
              "      <td>0.098592</td>\n",
              "      <td>0.038869</td>\n",
              "      <td>0.563142</td>\n",
              "      <td>0.456693</td>\n",
              "      <td>0.227545</td>\n",
              "      <td>0.323077</td>\n",
              "      <td>6</td>\n",
              "    </tr>\n",
              "  </tbody>\n",
              "</table>\n",
              "</div>"
            ],
            "text/plain": [
              "      fixed acidity  volatile acidity  ...   alcohol  quality\n",
              "67         0.176991          0.400685  ...  0.353846        5\n",
              "594        0.292035          0.410959  ...  0.169231        5\n",
              "541        0.433628          0.232877  ...  0.400000        6\n",
              "1595       0.115044          0.294521  ...  0.430769        6\n",
              "980        0.398230          0.260274  ...  0.323077        6\n",
              "\n",
              "[5 rows x 12 columns]"
            ]
          },
          "metadata": {
            "tags": []
          },
          "execution_count": 282
        }
      ]
    },
    {
      "cell_type": "markdown",
      "metadata": {
        "id": "eUiStlDqFfwQ"
      },
      "source": [
        "#### Ordinal output data to categorical output:"
      ]
    },
    {
      "cell_type": "code",
      "metadata": {
        "id": "gDOtcVKL_wHC",
        "outputId": "2990942d-3881-48b5-91d2-5fabc5bf5b05",
        "colab": {
          "base_uri": "https://localhost:8080/",
          "height": 727
        }
      },
      "source": [
        "y_train = train[['quality']]\n",
        "x_train = train.drop(columns = ['quality'], axis = 1)\n",
        "\n",
        "y_test = test[['quality']]\n",
        "x_test = test.drop(columns = ['quality'], axis = 1)\n",
        "\n",
        "y_train.loc[y_train['quality'] < 7] = 0\n",
        "y_train.loc[y_train['quality'] >= 7] = 1\n",
        "\n",
        "y_test.loc[y_test['quality'] < 7] = 0\n",
        "y_test.loc[y_test['quality'] >= 7] = 1"
      ],
      "execution_count": 283,
      "outputs": [
        {
          "output_type": "stream",
          "text": [
            "/usr/local/lib/python3.6/dist-packages/pandas/core/indexing.py:670: SettingWithCopyWarning: \n",
            "A value is trying to be set on a copy of a slice from a DataFrame\n",
            "\n",
            "See the caveats in the documentation: https://pandas.pydata.org/pandas-docs/stable/user_guide/indexing.html#returning-a-view-versus-a-copy\n",
            "  iloc._setitem_with_indexer(indexer, value)\n",
            "/usr/local/lib/python3.6/dist-packages/ipykernel_launcher.py:7: SettingWithCopyWarning: \n",
            "A value is trying to be set on a copy of a slice from a DataFrame\n",
            "\n",
            "See the caveats in the documentation: https://pandas.pydata.org/pandas-docs/stable/user_guide/indexing.html#returning-a-view-versus-a-copy\n",
            "  import sys\n",
            "/usr/local/lib/python3.6/dist-packages/pandas/core/indexing.py:670: SettingWithCopyWarning: \n",
            "A value is trying to be set on a copy of a slice from a DataFrame\n",
            "\n",
            "See the caveats in the documentation: https://pandas.pydata.org/pandas-docs/stable/user_guide/indexing.html#returning-a-view-versus-a-copy\n",
            "  iloc._setitem_with_indexer(indexer, value)\n",
            "/usr/local/lib/python3.6/dist-packages/ipykernel_launcher.py:8: SettingWithCopyWarning: \n",
            "A value is trying to be set on a copy of a slice from a DataFrame\n",
            "\n",
            "See the caveats in the documentation: https://pandas.pydata.org/pandas-docs/stable/user_guide/indexing.html#returning-a-view-versus-a-copy\n",
            "  \n",
            "/usr/local/lib/python3.6/dist-packages/pandas/core/indexing.py:670: SettingWithCopyWarning: \n",
            "A value is trying to be set on a copy of a slice from a DataFrame\n",
            "\n",
            "See the caveats in the documentation: https://pandas.pydata.org/pandas-docs/stable/user_guide/indexing.html#returning-a-view-versus-a-copy\n",
            "  iloc._setitem_with_indexer(indexer, value)\n",
            "/usr/local/lib/python3.6/dist-packages/ipykernel_launcher.py:10: SettingWithCopyWarning: \n",
            "A value is trying to be set on a copy of a slice from a DataFrame\n",
            "\n",
            "See the caveats in the documentation: https://pandas.pydata.org/pandas-docs/stable/user_guide/indexing.html#returning-a-view-versus-a-copy\n",
            "  # Remove the CWD from sys.path while we load stuff.\n",
            "/usr/local/lib/python3.6/dist-packages/pandas/core/indexing.py:670: SettingWithCopyWarning: \n",
            "A value is trying to be set on a copy of a slice from a DataFrame\n",
            "\n",
            "See the caveats in the documentation: https://pandas.pydata.org/pandas-docs/stable/user_guide/indexing.html#returning-a-view-versus-a-copy\n",
            "  iloc._setitem_with_indexer(indexer, value)\n",
            "/usr/local/lib/python3.6/dist-packages/ipykernel_launcher.py:11: SettingWithCopyWarning: \n",
            "A value is trying to be set on a copy of a slice from a DataFrame\n",
            "\n",
            "See the caveats in the documentation: https://pandas.pydata.org/pandas-docs/stable/user_guide/indexing.html#returning-a-view-versus-a-copy\n",
            "  # This is added back by InteractiveShellApp.init_path()\n"
          ],
          "name": "stderr"
        }
      ]
    },
    {
      "cell_type": "code",
      "metadata": {
        "id": "PX-pgDqr_zLW",
        "outputId": "c0223d52-e844-4991-b137-34ac58bb6b3e",
        "colab": {
          "base_uri": "https://localhost:8080/",
          "height": 233
        }
      },
      "source": [
        "from sklearn.naive_bayes import GaussianNB\n",
        "\n",
        "clf_nb = GaussianNB()\n",
        "clf_nb.fit(x_train, y_train)\n",
        "\n",
        "y_result = pd.DataFrame(data = clf_nb.predict(x_test), dtype=int)\n",
        "y_result.head()"
      ],
      "execution_count": 284,
      "outputs": [
        {
          "output_type": "stream",
          "text": [
            "/usr/local/lib/python3.6/dist-packages/sklearn/naive_bayes.py:206: DataConversionWarning: A column-vector y was passed when a 1d array was expected. Please change the shape of y to (n_samples, ), for example using ravel().\n",
            "  y = column_or_1d(y, warn=True)\n"
          ],
          "name": "stderr"
        },
        {
          "output_type": "execute_result",
          "data": {
            "text/html": [
              "<div>\n",
              "<style scoped>\n",
              "    .dataframe tbody tr th:only-of-type {\n",
              "        vertical-align: middle;\n",
              "    }\n",
              "\n",
              "    .dataframe tbody tr th {\n",
              "        vertical-align: top;\n",
              "    }\n",
              "\n",
              "    .dataframe thead th {\n",
              "        text-align: right;\n",
              "    }\n",
              "</style>\n",
              "<table border=\"1\" class=\"dataframe\">\n",
              "  <thead>\n",
              "    <tr style=\"text-align: right;\">\n",
              "      <th></th>\n",
              "      <th>0</th>\n",
              "    </tr>\n",
              "  </thead>\n",
              "  <tbody>\n",
              "    <tr>\n",
              "      <th>0</th>\n",
              "      <td>0</td>\n",
              "    </tr>\n",
              "    <tr>\n",
              "      <th>1</th>\n",
              "      <td>1</td>\n",
              "    </tr>\n",
              "    <tr>\n",
              "      <th>2</th>\n",
              "      <td>0</td>\n",
              "    </tr>\n",
              "    <tr>\n",
              "      <th>3</th>\n",
              "      <td>0</td>\n",
              "    </tr>\n",
              "    <tr>\n",
              "      <th>4</th>\n",
              "      <td>0</td>\n",
              "    </tr>\n",
              "  </tbody>\n",
              "</table>\n",
              "</div>"
            ],
            "text/plain": [
              "   0\n",
              "0  0\n",
              "1  1\n",
              "2  0\n",
              "3  0\n",
              "4  0"
            ]
          },
          "metadata": {
            "tags": []
          },
          "execution_count": 284
        }
      ]
    },
    {
      "cell_type": "markdown",
      "metadata": {
        "id": "MlkBQjw_CYBc"
      },
      "source": [
        "#### Model 4 results:"
      ]
    },
    {
      "cell_type": "code",
      "metadata": {
        "id": "FMo7DFu7_4LY",
        "outputId": "a1835753-d5e9-46ca-ab78-03e59793e1cd",
        "colab": {
          "base_uri": "https://localhost:8080/",
          "height": 123
        }
      },
      "source": [
        "print('Accuracy: %.2f' % roc_auc_score(y_test, y_result))\n",
        "print('F1_Score: %.2f' % f1_score(y_test, y_result))\n",
        "print('Precision: %.2f' % precision_score(y_test, y_result))\n",
        "print('Recall: %.2f' % recall_score(y_test, y_result))\n",
        "\n",
        "confus_mat = confusion_matrix(y_test, y_result)\n",
        "\n",
        "\n",
        "l1 = (confus_mat[0][0])/(confus_mat[0][0] + confus_mat[0][1])\n",
        "print('Sensitivity: %0.2f' % l1)\n",
        "\n",
        "l2 = (confus_mat[1][1])/(confus_mat[1][0] + confus_mat[1][1])\n",
        "print('Specificity: %0.2f' % l2)"
      ],
      "execution_count": 285,
      "outputs": [
        {
          "output_type": "stream",
          "text": [
            "Accuracy: 0.78\n",
            "F1_Score: 0.60\n",
            "Precision: 0.53\n",
            "Recall: 0.68\n",
            "Sensitivity: 0.89\n",
            "Specificity: 0.68\n"
          ],
          "name": "stdout"
        }
      ]
    }
  ]
}