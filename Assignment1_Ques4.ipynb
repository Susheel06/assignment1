{
  "nbformat": 4,
  "nbformat_minor": 0,
  "metadata": {
    "kernelspec": {
      "display_name": "Python 3",
      "language": "python",
      "name": "python3"
    },
    "language_info": {
      "codemirror_mode": {
        "name": "ipython",
        "version": 3
      },
      "file_extension": ".py",
      "mimetype": "text/x-python",
      "name": "python",
      "nbconvert_exporter": "python",
      "pygments_lexer": "ipython3",
      "version": "3.7.4"
    },
    "colab": {
      "name": "Assignment1_Ques4.ipynb",
      "provenance": [],
      "include_colab_link": true
    }
  },
  "cells": [
    {
      "cell_type": "markdown",
      "metadata": {
        "id": "view-in-github",
        "colab_type": "text"
      },
      "source": [
        "<a href=\"https://colab.research.google.com/github/Susheel06/assignment1/blob/main/Assignment1_Ques4.ipynb\" target=\"_parent\"><img src=\"https://colab.research.google.com/assets/colab-badge.svg\" alt=\"Open In Colab\"/></a>"
      ]
    },
    {
      "cell_type": "code",
      "metadata": {
        "id": "vmNNsEcWKAUo"
      },
      "source": [
        "import os\n",
        "import pandas as pd\n",
        "import numpy as np\n",
        "from sklearn import datasets"
      ],
      "execution_count": 2,
      "outputs": []
    },
    {
      "cell_type": "code",
      "metadata": {
        "id": "c_5QXc9PKAUr",
        "outputId": "cd6b874f-3ec9-4e55-a46e-30b83234ffcf",
        "colab": {
          "base_uri": "https://localhost:8080/",
          "height": 123
        }
      },
      "source": [
        "!git clone https://github.com/Susheel06/assignment1.git"
      ],
      "execution_count": 3,
      "outputs": [
        {
          "output_type": "stream",
          "text": [
            "Cloning into 'assignment1'...\n",
            "remote: Enumerating objects: 15, done.\u001b[K\n",
            "remote: Counting objects: 100% (15/15), done.\u001b[K\n",
            "remote: Compressing objects: 100% (14/14), done.\u001b[K\n",
            "remote: Total 15 (delta 4), reused 0 (delta 0), pack-reused 0\u001b[K\n",
            "Unpacking objects: 100% (15/15), done.\n"
          ],
          "name": "stdout"
        }
      ]
    },
    {
      "cell_type": "code",
      "metadata": {
        "id": "k_wCKxwSKAUt"
      },
      "source": [
        "test_data= pd.read_csv('/content/assignment1/winequality-red.csv',nrows=480 )\n",
        "test_data[\"Good/bad\"]=[\"Good\" if x>=7 else \"Bad\" for x in test_data['quality']]\n",
        "\n",
        "train_data=pd.read_csv('/content/assignment1/winequality-red.csv',skiprows=range(1,481))\n",
        "train_data[\"Good/bad\"]=[\"Good\" if x>=7 else \"Bad\" for x in train_data['quality']]"
      ],
      "execution_count": 4,
      "outputs": []
    },
    {
      "cell_type": "markdown",
      "metadata": {
        "id": "XWeKHhRuKced"
      },
      "source": [
        "#### Performing PCA"
      ]
    },
    {
      "cell_type": "code",
      "metadata": {
        "id": "SGdZAriXKAUz"
      },
      "source": [
        "from sklearn.decomposition import PCA\n",
        "from sklearn.linear_model import LinearRegression\n",
        "from sklearn.linear_model import LogisticRegression\n",
        "from sklearn.naive_bayes import GaussianNB\n",
        "from sklearn.svm import SVC\n",
        "from sklearn.metrics import precision_recall_fscore_support\n",
        "from sklearn.metrics import classification_report\n",
        "from sklearn.metrics import mean_squared_error"
      ],
      "execution_count": 5,
      "outputs": []
    },
    {
      "cell_type": "code",
      "metadata": {
        "id": "kIWNS85DKAU2"
      },
      "source": [
        "X_train = train_data.drop(columns=['quality','Good/bad']).values\n",
        "Y_train = train_data[\"quality\"].values\n",
        "\n",
        "X_test = test_data.drop(columns=['quality','Good/bad']).values\n",
        "Y_test = test_data[\"quality\"].values"
      ],
      "execution_count": 6,
      "outputs": []
    },
    {
      "cell_type": "markdown",
      "metadata": {
        "id": "GkAYw9IYKoSA"
      },
      "source": [
        "#### Getting 7 Attributes"
      ]
    },
    {
      "cell_type": "code",
      "metadata": {
        "id": "SFU2tKaRKAU7"
      },
      "source": [
        "pca=PCA(n_components=7)"
      ],
      "execution_count": 7,
      "outputs": []
    },
    {
      "cell_type": "code",
      "metadata": {
        "id": "lhxmymRAKAU9"
      },
      "source": [
        "X_train_7= pca.fit_transform(X_train)\n",
        "X_test_7= pca.fit_transform(X_test)"
      ],
      "execution_count": 8,
      "outputs": []
    },
    {
      "cell_type": "code",
      "metadata": {
        "id": "qtYpM_mpKAVA"
      },
      "source": [
        "Y_train= train_data[\"quality\"].values\n",
        "Y_test= test_data[\"quality\"].values\n",
        "\n",
        "Y_train2= train_data[\"Good/bad\"].values\n",
        "Y_test2= test_data[\"Good/bad\"].values"
      ],
      "execution_count": 9,
      "outputs": []
    },
    {
      "cell_type": "markdown",
      "metadata": {
        "id": "QGTAK1cuK564"
      },
      "source": [
        "#### Model 1: Linear Regression"
      ]
    },
    {
      "cell_type": "code",
      "metadata": {
        "id": "Jwzx_ihCKAVE"
      },
      "source": [
        "linearReg= LinearRegression(normalize=True)\n",
        "linearReg.fit(X_train_7,Y_train)\n",
        "\n",
        "y_pred_linear_7=linearReg.predict(X_test_7)\n",
        "y_pred_linear_7=[\"Good\" if x>=7 else \"Bad\" for x in y_pred_linear_7]"
      ],
      "execution_count": 10,
      "outputs": []
    },
    {
      "cell_type": "code",
      "metadata": {
        "id": "RzbfFBdkKAVJ",
        "outputId": "a04f82cb-92a0-4fdb-9b4d-3dea3f80b1e7",
        "colab": {
          "base_uri": "https://localhost:8080/",
          "height": 176
        }
      },
      "source": [
        "linear_classification_7=(classification_report(Y_test2, y_pred_linear_7))\n",
        "print(linear_classification_7)"
      ],
      "execution_count": 11,
      "outputs": [
        {
          "output_type": "stream",
          "text": [
            "              precision    recall  f1-score   support\n",
            "\n",
            "         Bad       0.89      0.99      0.94       426\n",
            "        Good       0.40      0.04      0.07        54\n",
            "\n",
            "    accuracy                           0.89       480\n",
            "   macro avg       0.65      0.51      0.50       480\n",
            "weighted avg       0.84      0.89      0.84       480\n",
            "\n"
          ],
          "name": "stdout"
        }
      ]
    },
    {
      "cell_type": "code",
      "metadata": {
        "id": "3bPX24YhKAVL",
        "outputId": "30a9c042-584b-4aec-c846-2cf139f330c6",
        "colab": {
          "base_uri": "https://localhost:8080/",
          "height": 34
        }
      },
      "source": [
        "count=0\n",
        "for i in range(480):\n",
        "    if y_pred_linear_7[i]==Y_test2[i]:\n",
        "        count+=1\n",
        "linearRegAcc_7=count/480\n",
        "linearRegAcc_7"
      ],
      "execution_count": 12,
      "outputs": [
        {
          "output_type": "execute_result",
          "data": {
            "text/plain": [
              "0.8854166666666666"
            ]
          },
          "metadata": {
            "tags": []
          },
          "execution_count": 12
        }
      ]
    },
    {
      "cell_type": "markdown",
      "metadata": {
        "id": "Q9exX-tHLTma"
      },
      "source": [
        "#### Model 2: Logistic Regression"
      ]
    },
    {
      "cell_type": "code",
      "metadata": {
        "id": "4lBwqfF0KAVP"
      },
      "source": [
        "logisReg= LogisticRegression(max_iter=400)\n",
        "\n",
        "logisReg.fit(X_train_7,Y_train2)\n",
        "y_pred_logistic_7=logisReg.predict(X_test_7)"
      ],
      "execution_count": 13,
      "outputs": []
    },
    {
      "cell_type": "code",
      "metadata": {
        "id": "FN1g6kYgKAVR",
        "outputId": "e78bc7a5-15c1-4a87-fe8e-3bc725ec306d",
        "colab": {
          "base_uri": "https://localhost:8080/",
          "height": 176
        }
      },
      "source": [
        "logistic_classification_7=classification_report(Y_test2, y_pred_logistic_7)\n",
        "print(logistic_classification_7)"
      ],
      "execution_count": 14,
      "outputs": [
        {
          "output_type": "stream",
          "text": [
            "              precision    recall  f1-score   support\n",
            "\n",
            "         Bad       0.90      0.95      0.93       426\n",
            "        Good       0.33      0.20      0.25        54\n",
            "\n",
            "    accuracy                           0.86       480\n",
            "   macro avg       0.62      0.58      0.59       480\n",
            "weighted avg       0.84      0.86      0.85       480\n",
            "\n"
          ],
          "name": "stdout"
        }
      ]
    },
    {
      "cell_type": "code",
      "metadata": {
        "id": "N0iHK63OKAVW",
        "outputId": "cdef66b4-0456-4bbd-cbaf-d7b89ab5a7e3",
        "colab": {
          "base_uri": "https://localhost:8080/",
          "height": 34
        }
      },
      "source": [
        "logistic_score_7=logisReg.score(X_test_7,Y_test2)\n",
        "logistic_score_7"
      ],
      "execution_count": 15,
      "outputs": [
        {
          "output_type": "execute_result",
          "data": {
            "text/plain": [
              "0.8645833333333334"
            ]
          },
          "metadata": {
            "tags": []
          },
          "execution_count": 15
        }
      ]
    },
    {
      "cell_type": "markdown",
      "metadata": {
        "id": "cChnzABJLiEq"
      },
      "source": [
        "#### Model 3: Support Vector Machine"
      ]
    },
    {
      "cell_type": "code",
      "metadata": {
        "id": "rv7r5M4qKAVb"
      },
      "source": [
        "vecMachine=SVC()\n",
        "\n",
        "vecMachine.fit(X_train_7,Y_train2)\n",
        "y_pred_svm_7=vecMachine.predict(X_test_7)"
      ],
      "execution_count": 16,
      "outputs": []
    },
    {
      "cell_type": "code",
      "metadata": {
        "id": "mb7-CBdvKAVg",
        "outputId": "b29a0583-3589-4d4f-e361-8c1f9d29adb2",
        "colab": {
          "base_uri": "https://localhost:8080/",
          "height": 212
        }
      },
      "source": [
        "svm_classification_7=classification_report(Y_test2, y_pred_svm_7)\n",
        "print(svm_classification_7)"
      ],
      "execution_count": 17,
      "outputs": [
        {
          "output_type": "stream",
          "text": [
            "              precision    recall  f1-score   support\n",
            "\n",
            "         Bad       0.89      1.00      0.94       426\n",
            "        Good       0.00      0.00      0.00        54\n",
            "\n",
            "    accuracy                           0.89       480\n",
            "   macro avg       0.44      0.50      0.47       480\n",
            "weighted avg       0.79      0.89      0.83       480\n",
            "\n"
          ],
          "name": "stdout"
        },
        {
          "output_type": "stream",
          "text": [
            "/usr/local/lib/python3.6/dist-packages/sklearn/metrics/_classification.py:1272: UndefinedMetricWarning: Precision and F-score are ill-defined and being set to 0.0 in labels with no predicted samples. Use `zero_division` parameter to control this behavior.\n",
            "  _warn_prf(average, modifier, msg_start, len(result))\n"
          ],
          "name": "stderr"
        }
      ]
    },
    {
      "cell_type": "code",
      "metadata": {
        "id": "GWeppDjiKAVj",
        "outputId": "16c3c73b-7094-41bc-db8e-5f81d51b40cc",
        "colab": {
          "base_uri": "https://localhost:8080/",
          "height": 34
        }
      },
      "source": [
        "svm_score_7=vecMachine.score(X_test_7,Y_test2)\n",
        "svm_score_7"
      ],
      "execution_count": 18,
      "outputs": [
        {
          "output_type": "execute_result",
          "data": {
            "text/plain": [
              "0.8875"
            ]
          },
          "metadata": {
            "tags": []
          },
          "execution_count": 18
        }
      ]
    },
    {
      "cell_type": "markdown",
      "metadata": {
        "id": "GZewjuHnLq32"
      },
      "source": [
        "#### Model 4: Naïve Bayesian Classifier"
      ]
    },
    {
      "cell_type": "code",
      "metadata": {
        "id": "oD6Nq0ZAKAVn"
      },
      "source": [
        "bayesian=GaussianNB()\n",
        "\n",
        "bayesian.fit(X_train_7,Y_train2)\n",
        "y_pred_nb_7=bayesian.predict(X_test_7)"
      ],
      "execution_count": 19,
      "outputs": []
    },
    {
      "cell_type": "code",
      "metadata": {
        "id": "SZQEEfhxKAVr",
        "outputId": "4f67a2bf-06e9-4ef0-fc93-a557e370b969",
        "colab": {
          "base_uri": "https://localhost:8080/",
          "height": 176
        }
      },
      "source": [
        "nb_classification_7=classification_report(Y_test2, y_pred_nb_7)\n",
        "print(nb_classification_7)"
      ],
      "execution_count": 20,
      "outputs": [
        {
          "output_type": "stream",
          "text": [
            "              precision    recall  f1-score   support\n",
            "\n",
            "         Bad       0.91      0.96      0.93       426\n",
            "        Good       0.41      0.24      0.30        54\n",
            "\n",
            "    accuracy                           0.88       480\n",
            "   macro avg       0.66      0.60      0.62       480\n",
            "weighted avg       0.85      0.88      0.86       480\n",
            "\n"
          ],
          "name": "stdout"
        }
      ]
    },
    {
      "cell_type": "code",
      "metadata": {
        "id": "xkumOc0_KAVt",
        "outputId": "756d4d24-59bc-4ac0-c724-caa9251234f6",
        "colab": {
          "base_uri": "https://localhost:8080/",
          "height": 34
        }
      },
      "source": [
        "nb_score_7=bayesian.score(X_test_7,Y_test2)\n",
        "nb_score_7"
      ],
      "execution_count": 21,
      "outputs": [
        {
          "output_type": "execute_result",
          "data": {
            "text/plain": [
              "0.875"
            ]
          },
          "metadata": {
            "tags": []
          },
          "execution_count": 21
        }
      ]
    },
    {
      "cell_type": "code",
      "metadata": {
        "id": "gduWSjhtKAVu",
        "outputId": "a7004096-d1a9-4f06-c931-ad6650c739f3",
        "colab": {
          "base_uri": "https://localhost:8080/",
          "height": 994
        }
      },
      "source": [
        "print(\"                \",\"\\u0332\".join(\"PCA with 7 Attributes\"),\"\\n\\n\")\n",
        "print(\"\\u0332\".join(\"LinearRegressionClassifier\"),\"\\n\")\n",
        "print(linear_classification_7)\n",
        "print(\"Linear Regression Score =\",linearRegAcc_7,\"\\n\")\n",
        "print(\"\\u0332\".join(\"LogisticRegressionClassifier\"),\"\\n\")\n",
        "print(logistic_classification_7)\n",
        "print(\"Logistic Regression Score =\",logistic_score_7,\"\\n\")\n",
        "print(\"\\u0332\".join(\"SupportVectorMachine\"),\"\\n\")\n",
        "print(svm_classification_7)\n",
        "print(\"SVM Score =\",svm_score_7,\"\\n\")\n",
        "print(\"\\u0332\".join(\"NaïveBayesian\"),\"\\n\")\n",
        "print(nb_classification_7)\n",
        "print(\"NaïveBayesian Score =\",nb_score_7, \"\\n\")"
      ],
      "execution_count": 22,
      "outputs": [
        {
          "output_type": "stream",
          "text": [
            "                 P̲C̲A̲ ̲w̲i̲t̲h̲ ̲7̲ ̲A̲t̲t̲r̲i̲b̲u̲t̲e̲s \n",
            "\n",
            "\n",
            "L̲i̲n̲e̲a̲r̲R̲e̲g̲r̲e̲s̲s̲i̲o̲n̲C̲l̲a̲s̲s̲i̲f̲i̲e̲r \n",
            "\n",
            "              precision    recall  f1-score   support\n",
            "\n",
            "         Bad       0.89      0.99      0.94       426\n",
            "        Good       0.40      0.04      0.07        54\n",
            "\n",
            "    accuracy                           0.89       480\n",
            "   macro avg       0.65      0.51      0.50       480\n",
            "weighted avg       0.84      0.89      0.84       480\n",
            "\n",
            "Linear Regression Score = 0.8854166666666666 \n",
            "\n",
            "L̲o̲g̲i̲s̲t̲i̲c̲R̲e̲g̲r̲e̲s̲s̲i̲o̲n̲C̲l̲a̲s̲s̲i̲f̲i̲e̲r \n",
            "\n",
            "              precision    recall  f1-score   support\n",
            "\n",
            "         Bad       0.90      0.95      0.93       426\n",
            "        Good       0.33      0.20      0.25        54\n",
            "\n",
            "    accuracy                           0.86       480\n",
            "   macro avg       0.62      0.58      0.59       480\n",
            "weighted avg       0.84      0.86      0.85       480\n",
            "\n",
            "Logistic Regression Score = 0.8645833333333334 \n",
            "\n",
            "S̲u̲p̲p̲o̲r̲t̲V̲e̲c̲t̲o̲r̲M̲a̲c̲h̲i̲n̲e \n",
            "\n",
            "              precision    recall  f1-score   support\n",
            "\n",
            "         Bad       0.89      1.00      0.94       426\n",
            "        Good       0.00      0.00      0.00        54\n",
            "\n",
            "    accuracy                           0.89       480\n",
            "   macro avg       0.44      0.50      0.47       480\n",
            "weighted avg       0.79      0.89      0.83       480\n",
            "\n",
            "SVM Score = 0.8875 \n",
            "\n",
            "N̲a̲ï̲v̲e̲B̲a̲y̲e̲s̲i̲a̲n \n",
            "\n",
            "              precision    recall  f1-score   support\n",
            "\n",
            "         Bad       0.91      0.96      0.93       426\n",
            "        Good       0.41      0.24      0.30        54\n",
            "\n",
            "    accuracy                           0.88       480\n",
            "   macro avg       0.66      0.60      0.62       480\n",
            "weighted avg       0.85      0.88      0.86       480\n",
            "\n",
            "NaïveBayesian Score = 0.875 \n",
            "\n"
          ],
          "name": "stdout"
        }
      ]
    },
    {
      "cell_type": "markdown",
      "metadata": {
        "id": "BLKDM_Q0L0sp"
      },
      "source": [
        "#### Getting 4 Attributes:"
      ]
    },
    {
      "cell_type": "code",
      "metadata": {
        "id": "-fXMA6LoKAVx"
      },
      "source": [
        "pca=PCA(n_components=4)"
      ],
      "execution_count": 23,
      "outputs": []
    },
    {
      "cell_type": "code",
      "metadata": {
        "id": "wxSOUH1NKAVz"
      },
      "source": [
        "X_train_4= pca.fit_transform(X_train)\n",
        "X_test_4= pca.fit_transform(X_test)"
      ],
      "execution_count": 24,
      "outputs": []
    },
    {
      "cell_type": "markdown",
      "metadata": {
        "id": "W3C6pMAWMDAY"
      },
      "source": [
        "#### Model 1: Linear Regression"
      ]
    },
    {
      "cell_type": "code",
      "metadata": {
        "id": "TdWqW-vfKAV5"
      },
      "source": [
        "linearReg= LinearRegression(normalize=True)\n",
        "\n",
        "linearReg.fit(X_train_4,Y_train)\n",
        "y_pred_linear_4=linearReg.predict(X_test_4)\n",
        "y_pred_linear_4=[\"Good\" if x>=7 else \"Bad\" for x in y_pred_linear_4]"
      ],
      "execution_count": 25,
      "outputs": []
    },
    {
      "cell_type": "code",
      "metadata": {
        "id": "-dtiPlVsKAV_",
        "outputId": "a5efe000-143a-4e7a-af5d-f7dc315303a7",
        "colab": {
          "base_uri": "https://localhost:8080/",
          "height": 212
        }
      },
      "source": [
        "linear_classification_4=(classification_report(Y_test2, y_pred_linear_4))\n",
        "print(linear_classification_4)"
      ],
      "execution_count": 26,
      "outputs": [
        {
          "output_type": "stream",
          "text": [
            "/usr/local/lib/python3.6/dist-packages/sklearn/metrics/_classification.py:1272: UndefinedMetricWarning: Precision and F-score are ill-defined and being set to 0.0 in labels with no predicted samples. Use `zero_division` parameter to control this behavior.\n",
            "  _warn_prf(average, modifier, msg_start, len(result))\n"
          ],
          "name": "stderr"
        },
        {
          "output_type": "stream",
          "text": [
            "              precision    recall  f1-score   support\n",
            "\n",
            "         Bad       0.89      1.00      0.94       426\n",
            "        Good       0.00      0.00      0.00        54\n",
            "\n",
            "    accuracy                           0.89       480\n",
            "   macro avg       0.44      0.50      0.47       480\n",
            "weighted avg       0.79      0.89      0.83       480\n",
            "\n"
          ],
          "name": "stdout"
        }
      ]
    },
    {
      "cell_type": "code",
      "metadata": {
        "id": "mwaFJ6ViKAWA",
        "outputId": "39ee4ec9-baee-429d-9dd8-972ae167085d",
        "colab": {
          "base_uri": "https://localhost:8080/",
          "height": 34
        }
      },
      "source": [
        "count=0\n",
        "for i in range(480):\n",
        "    if y_pred_linear_4[i]==Y_test2[i]:\n",
        "        count+=1\n",
        "linearRegAcc_4=count/480\n",
        "linearRegAcc_4"
      ],
      "execution_count": 27,
      "outputs": [
        {
          "output_type": "execute_result",
          "data": {
            "text/plain": [
              "0.8875"
            ]
          },
          "metadata": {
            "tags": []
          },
          "execution_count": 27
        }
      ]
    },
    {
      "cell_type": "markdown",
      "metadata": {
        "id": "HIZJ3P0yMGof"
      },
      "source": [
        "#### Model 2: Logistic Regression"
      ]
    },
    {
      "cell_type": "code",
      "metadata": {
        "id": "WA8mvp_8KAWD"
      },
      "source": [
        "logisReg= LogisticRegression(max_iter=400)\n",
        "\n",
        "logisReg.fit(X_train_4,Y_train2)\n",
        "y_pred_logistic_4=logisReg.predict(X_test_4)"
      ],
      "execution_count": 28,
      "outputs": []
    },
    {
      "cell_type": "code",
      "metadata": {
        "id": "GeMVobDjKAWJ",
        "outputId": "4158da9e-21ee-402b-f20f-9084b4b902b4",
        "colab": {
          "base_uri": "https://localhost:8080/",
          "height": 212
        }
      },
      "source": [
        "logistic_classification_4=classification_report(Y_test2, y_pred_logistic_4)\n",
        "print(logistic_classification_4)"
      ],
      "execution_count": 29,
      "outputs": [
        {
          "output_type": "stream",
          "text": [
            "              precision    recall  f1-score   support\n",
            "\n",
            "         Bad       0.89      1.00      0.94       426\n",
            "        Good       0.00      0.00      0.00        54\n",
            "\n",
            "    accuracy                           0.89       480\n",
            "   macro avg       0.44      0.50      0.47       480\n",
            "weighted avg       0.79      0.89      0.83       480\n",
            "\n"
          ],
          "name": "stdout"
        },
        {
          "output_type": "stream",
          "text": [
            "/usr/local/lib/python3.6/dist-packages/sklearn/metrics/_classification.py:1272: UndefinedMetricWarning: Precision and F-score are ill-defined and being set to 0.0 in labels with no predicted samples. Use `zero_division` parameter to control this behavior.\n",
            "  _warn_prf(average, modifier, msg_start, len(result))\n"
          ],
          "name": "stderr"
        }
      ]
    },
    {
      "cell_type": "code",
      "metadata": {
        "id": "Q-2alztaKAWL",
        "outputId": "1b0de8d1-e297-4c38-d6d7-592d1b1cbfe3",
        "colab": {
          "base_uri": "https://localhost:8080/",
          "height": 34
        }
      },
      "source": [
        "logistic_score_4=logisReg.score(X_test_4,Y_test2)\n",
        "logistic_score_4"
      ],
      "execution_count": 30,
      "outputs": [
        {
          "output_type": "execute_result",
          "data": {
            "text/plain": [
              "0.8875"
            ]
          },
          "metadata": {
            "tags": []
          },
          "execution_count": 30
        }
      ]
    },
    {
      "cell_type": "markdown",
      "metadata": {
        "id": "8OjY-Io3MPq8"
      },
      "source": [
        "Model 3: SVM"
      ]
    },
    {
      "cell_type": "code",
      "metadata": {
        "id": "lzvLkvYAKAWQ"
      },
      "source": [
        "vecMachine=SVC()\n",
        "\n",
        "vecMachine.fit(X_train_4,Y_train2)\n",
        "y_pred_svm_4=vecMachine.predict(X_test_4)"
      ],
      "execution_count": 31,
      "outputs": []
    },
    {
      "cell_type": "code",
      "metadata": {
        "id": "BGdfCM7oKAWX",
        "outputId": "eb231e7e-06bd-43be-e9b4-704d7dd4685c",
        "colab": {
          "base_uri": "https://localhost:8080/",
          "height": 212
        }
      },
      "source": [
        "svm_classification_4=classification_report(Y_test2, y_pred_svm_4)\n",
        "print(svm_classification_4)"
      ],
      "execution_count": 32,
      "outputs": [
        {
          "output_type": "stream",
          "text": [
            "/usr/local/lib/python3.6/dist-packages/sklearn/metrics/_classification.py:1272: UndefinedMetricWarning: Precision and F-score are ill-defined and being set to 0.0 in labels with no predicted samples. Use `zero_division` parameter to control this behavior.\n",
            "  _warn_prf(average, modifier, msg_start, len(result))\n"
          ],
          "name": "stderr"
        },
        {
          "output_type": "stream",
          "text": [
            "              precision    recall  f1-score   support\n",
            "\n",
            "         Bad       0.89      1.00      0.94       426\n",
            "        Good       0.00      0.00      0.00        54\n",
            "\n",
            "    accuracy                           0.89       480\n",
            "   macro avg       0.44      0.50      0.47       480\n",
            "weighted avg       0.79      0.89      0.83       480\n",
            "\n"
          ],
          "name": "stdout"
        }
      ]
    },
    {
      "cell_type": "code",
      "metadata": {
        "id": "nbzDUCgHKAWZ",
        "outputId": "c3dca26f-a204-40e6-b70f-b01a5e30cc63",
        "colab": {
          "base_uri": "https://localhost:8080/",
          "height": 34
        }
      },
      "source": [
        "svm_score_4=vecMachine.score(X_test_4,Y_test2)\n",
        "svm_score_4"
      ],
      "execution_count": 33,
      "outputs": [
        {
          "output_type": "execute_result",
          "data": {
            "text/plain": [
              "0.8875"
            ]
          },
          "metadata": {
            "tags": []
          },
          "execution_count": 33
        }
      ]
    },
    {
      "cell_type": "markdown",
      "metadata": {
        "id": "GQVieDfLMVU-"
      },
      "source": [
        "#### Model 4: Naïve Bayesian Classifier"
      ]
    },
    {
      "cell_type": "code",
      "metadata": {
        "id": "BcUKvUI4KAWd"
      },
      "source": [
        "bayesian=GaussianNB()\n",
        "\n",
        "bayesian.fit(X_train_4,Y_train2)\n",
        "y_pred_nb_4=bayesian.predict(X_test_4)"
      ],
      "execution_count": 34,
      "outputs": []
    },
    {
      "cell_type": "code",
      "metadata": {
        "id": "2Cx6mgsoKAWh",
        "outputId": "b5a452fa-af2e-4d4d-9332-44b4154253a9",
        "colab": {
          "base_uri": "https://localhost:8080/",
          "height": 212
        }
      },
      "source": [
        "nb_classification_4=classification_report(Y_test2, y_pred_nb_4)\n",
        "print(nb_classification_4)"
      ],
      "execution_count": 35,
      "outputs": [
        {
          "output_type": "stream",
          "text": [
            "              precision    recall  f1-score   support\n",
            "\n",
            "         Bad       0.89      1.00      0.94       426\n",
            "        Good       0.00      0.00      0.00        54\n",
            "\n",
            "    accuracy                           0.89       480\n",
            "   macro avg       0.44      0.50      0.47       480\n",
            "weighted avg       0.79      0.89      0.83       480\n",
            "\n"
          ],
          "name": "stdout"
        },
        {
          "output_type": "stream",
          "text": [
            "/usr/local/lib/python3.6/dist-packages/sklearn/metrics/_classification.py:1272: UndefinedMetricWarning: Precision and F-score are ill-defined and being set to 0.0 in labels with no predicted samples. Use `zero_division` parameter to control this behavior.\n",
            "  _warn_prf(average, modifier, msg_start, len(result))\n"
          ],
          "name": "stderr"
        }
      ]
    },
    {
      "cell_type": "code",
      "metadata": {
        "id": "s6GQh6mHKAWi",
        "outputId": "33dfd3df-8339-40c3-e17b-f2cfe4907c33",
        "colab": {
          "base_uri": "https://localhost:8080/",
          "height": 34
        }
      },
      "source": [
        "nb_score_4=bayesian.score(X_test_4,Y_test2)\n",
        "nb_score_4"
      ],
      "execution_count": 36,
      "outputs": [
        {
          "output_type": "execute_result",
          "data": {
            "text/plain": [
              "0.8875"
            ]
          },
          "metadata": {
            "tags": []
          },
          "execution_count": 36
        }
      ]
    },
    {
      "cell_type": "code",
      "metadata": {
        "id": "fUxbHk1WKAWk",
        "outputId": "158007df-87d1-4a5a-e3ac-be1f2b157612",
        "colab": {
          "base_uri": "https://localhost:8080/",
          "height": 994
        }
      },
      "source": [
        "print(\"                \",\"\\u0332\".join(\"PCA with 4 Attributes\"),\"\\n\\n\")\n",
        "print(\"\\u0332\".join(\"LinearRegressionClassifier\"),\"\\n\")\n",
        "print(linear_classification_4)\n",
        "print(\"Linear Regression Score =\",linearRegAcc_4,\"\\n\")\n",
        "print(\"\\u0332\".join(\"LogisticRegressionClassifier\"),\"\\n\")\n",
        "print(logistic_classification_4)\n",
        "print(\"Logistic Regression Score =\",logistic_score_4,\"\\n\")\n",
        "print(\"\\u0332\".join(\"SupportVectorMachine\"),\"\\n\")\n",
        "print(svm_classification_4)\n",
        "print(\"SVM Score =\",svm_score_4,\"\\n\")\n",
        "print(\"\\u0332\".join(\"NaïveBayesian\"),\"\\n\")\n",
        "print(nb_classification_4)\n",
        "print(\"NaïveBayesian Score =\",nb_score_4, \"\\n\")"
      ],
      "execution_count": 37,
      "outputs": [
        {
          "output_type": "stream",
          "text": [
            "                 P̲C̲A̲ ̲w̲i̲t̲h̲ ̲4̲ ̲A̲t̲t̲r̲i̲b̲u̲t̲e̲s \n",
            "\n",
            "\n",
            "L̲i̲n̲e̲a̲r̲R̲e̲g̲r̲e̲s̲s̲i̲o̲n̲C̲l̲a̲s̲s̲i̲f̲i̲e̲r \n",
            "\n",
            "              precision    recall  f1-score   support\n",
            "\n",
            "         Bad       0.89      1.00      0.94       426\n",
            "        Good       0.00      0.00      0.00        54\n",
            "\n",
            "    accuracy                           0.89       480\n",
            "   macro avg       0.44      0.50      0.47       480\n",
            "weighted avg       0.79      0.89      0.83       480\n",
            "\n",
            "Linear Regression Score = 0.8875 \n",
            "\n",
            "L̲o̲g̲i̲s̲t̲i̲c̲R̲e̲g̲r̲e̲s̲s̲i̲o̲n̲C̲l̲a̲s̲s̲i̲f̲i̲e̲r \n",
            "\n",
            "              precision    recall  f1-score   support\n",
            "\n",
            "         Bad       0.89      1.00      0.94       426\n",
            "        Good       0.00      0.00      0.00        54\n",
            "\n",
            "    accuracy                           0.89       480\n",
            "   macro avg       0.44      0.50      0.47       480\n",
            "weighted avg       0.79      0.89      0.83       480\n",
            "\n",
            "Logistic Regression Score = 0.8875 \n",
            "\n",
            "S̲u̲p̲p̲o̲r̲t̲V̲e̲c̲t̲o̲r̲M̲a̲c̲h̲i̲n̲e \n",
            "\n",
            "              precision    recall  f1-score   support\n",
            "\n",
            "         Bad       0.89      1.00      0.94       426\n",
            "        Good       0.00      0.00      0.00        54\n",
            "\n",
            "    accuracy                           0.89       480\n",
            "   macro avg       0.44      0.50      0.47       480\n",
            "weighted avg       0.79      0.89      0.83       480\n",
            "\n",
            "SVM Score = 0.8875 \n",
            "\n",
            "N̲a̲ï̲v̲e̲B̲a̲y̲e̲s̲i̲a̲n \n",
            "\n",
            "              precision    recall  f1-score   support\n",
            "\n",
            "         Bad       0.89      1.00      0.94       426\n",
            "        Good       0.00      0.00      0.00        54\n",
            "\n",
            "    accuracy                           0.89       480\n",
            "   macro avg       0.44      0.50      0.47       480\n",
            "weighted avg       0.79      0.89      0.83       480\n",
            "\n",
            "NaïveBayesian Score = 0.8875 \n",
            "\n"
          ],
          "name": "stdout"
        }
      ]
    }
  ]
}